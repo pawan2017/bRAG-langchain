{
 "cells": [
  {
   "cell_type": "code",
   "execution_count": 3,
   "metadata": {},
   "outputs": [
    {
     "name": "stdout",
     "output_type": "stream",
     "text": [
      "Collecting langchain-community\n",
      "  Downloading langchain_community-0.3.16-py3-none-any.whl.metadata (2.9 kB)\n",
      "Collecting PyYAML>=5.3 (from langchain-community)\n",
      "  Downloading PyYAML-6.0.2-cp312-cp312-macosx_11_0_arm64.whl.metadata (2.1 kB)\n",
      "Collecting SQLAlchemy<3,>=1.4 (from langchain-community)\n",
      "  Downloading SQLAlchemy-2.0.37-cp312-cp312-macosx_11_0_arm64.whl.metadata (9.6 kB)\n",
      "Collecting aiohttp<4.0.0,>=3.8.3 (from langchain-community)\n",
      "  Downloading aiohttp-3.11.11-cp312-cp312-macosx_11_0_arm64.whl.metadata (7.7 kB)\n",
      "Collecting dataclasses-json<0.7,>=0.5.7 (from langchain-community)\n",
      "  Downloading dataclasses_json-0.6.7-py3-none-any.whl.metadata (25 kB)\n",
      "Collecting httpx-sse<0.5.0,>=0.4.0 (from langchain-community)\n",
      "  Downloading httpx_sse-0.4.0-py3-none-any.whl.metadata (9.0 kB)\n",
      "Collecting langchain<0.4.0,>=0.3.16 (from langchain-community)\n",
      "  Downloading langchain-0.3.17-py3-none-any.whl.metadata (7.1 kB)\n",
      "Collecting langchain-core<0.4.0,>=0.3.32 (from langchain-community)\n",
      "  Downloading langchain_core-0.3.33-py3-none-any.whl.metadata (6.3 kB)\n",
      "Collecting langsmith<0.4,>=0.1.125 (from langchain-community)\n",
      "  Downloading langsmith-0.3.4-py3-none-any.whl.metadata (14 kB)\n",
      "Collecting numpy<3,>=1.26.2 (from langchain-community)\n",
      "  Downloading numpy-2.2.2-cp312-cp312-macosx_14_0_arm64.whl.metadata (62 kB)\n",
      "Collecting pydantic-settings<3.0.0,>=2.4.0 (from langchain-community)\n",
      "  Downloading pydantic_settings-2.7.1-py3-none-any.whl.metadata (3.5 kB)\n",
      "Collecting requests<3,>=2 (from langchain-community)\n",
      "  Downloading requests-2.32.3-py3-none-any.whl.metadata (4.6 kB)\n",
      "Collecting tenacity!=8.4.0,<10,>=8.1.0 (from langchain-community)\n",
      "  Downloading tenacity-9.0.0-py3-none-any.whl.metadata (1.2 kB)\n",
      "Collecting aiohappyeyeballs>=2.3.0 (from aiohttp<4.0.0,>=3.8.3->langchain-community)\n",
      "  Downloading aiohappyeyeballs-2.4.4-py3-none-any.whl.metadata (6.1 kB)\n",
      "Collecting aiosignal>=1.1.2 (from aiohttp<4.0.0,>=3.8.3->langchain-community)\n",
      "  Downloading aiosignal-1.3.2-py2.py3-none-any.whl.metadata (3.8 kB)\n",
      "Collecting attrs>=17.3.0 (from aiohttp<4.0.0,>=3.8.3->langchain-community)\n",
      "  Downloading attrs-25.1.0-py3-none-any.whl.metadata (10 kB)\n",
      "Collecting frozenlist>=1.1.1 (from aiohttp<4.0.0,>=3.8.3->langchain-community)\n",
      "  Downloading frozenlist-1.5.0-cp312-cp312-macosx_11_0_arm64.whl.metadata (13 kB)\n",
      "Collecting multidict<7.0,>=4.5 (from aiohttp<4.0.0,>=3.8.3->langchain-community)\n",
      "  Downloading multidict-6.1.0-cp312-cp312-macosx_11_0_arm64.whl.metadata (5.0 kB)\n",
      "Collecting propcache>=0.2.0 (from aiohttp<4.0.0,>=3.8.3->langchain-community)\n",
      "  Downloading propcache-0.2.1-cp312-cp312-macosx_11_0_arm64.whl.metadata (9.2 kB)\n",
      "Collecting yarl<2.0,>=1.17.0 (from aiohttp<4.0.0,>=3.8.3->langchain-community)\n",
      "  Downloading yarl-1.18.3-cp312-cp312-macosx_11_0_arm64.whl.metadata (69 kB)\n",
      "Collecting marshmallow<4.0.0,>=3.18.0 (from dataclasses-json<0.7,>=0.5.7->langchain-community)\n",
      "  Downloading marshmallow-3.26.0-py3-none-any.whl.metadata (7.3 kB)\n",
      "Collecting typing-inspect<1,>=0.4.0 (from dataclasses-json<0.7,>=0.5.7->langchain-community)\n",
      "  Downloading typing_inspect-0.9.0-py3-none-any.whl.metadata (1.5 kB)\n",
      "Collecting langchain-text-splitters<0.4.0,>=0.3.3 (from langchain<0.4.0,>=0.3.16->langchain-community)\n",
      "  Downloading langchain_text_splitters-0.3.5-py3-none-any.whl.metadata (2.3 kB)\n",
      "Collecting pydantic<3.0.0,>=2.7.4 (from langchain<0.4.0,>=0.3.16->langchain-community)\n",
      "  Downloading pydantic-2.10.6-py3-none-any.whl.metadata (30 kB)\n",
      "Collecting jsonpatch<2.0,>=1.33 (from langchain-core<0.4.0,>=0.3.32->langchain-community)\n",
      "  Downloading jsonpatch-1.33-py2.py3-none-any.whl.metadata (3.0 kB)\n",
      "Requirement already satisfied: packaging<25,>=23.2 in /Users/pawannegi/Library/Python/3.12/lib/python/site-packages (from langchain-core<0.4.0,>=0.3.32->langchain-community) (24.2)\n",
      "Collecting typing-extensions>=4.7 (from langchain-core<0.4.0,>=0.3.32->langchain-community)\n",
      "  Downloading typing_extensions-4.12.2-py3-none-any.whl.metadata (3.0 kB)\n",
      "Collecting httpx<1,>=0.23.0 (from langsmith<0.4,>=0.1.125->langchain-community)\n",
      "  Downloading httpx-0.28.1-py3-none-any.whl.metadata (7.1 kB)\n",
      "Collecting orjson<4.0.0,>=3.9.14 (from langsmith<0.4,>=0.1.125->langchain-community)\n",
      "  Downloading orjson-3.10.15-cp312-cp312-macosx_10_15_x86_64.macosx_11_0_arm64.macosx_10_15_universal2.whl.metadata (41 kB)\n",
      "Collecting requests-toolbelt<2.0.0,>=1.0.0 (from langsmith<0.4,>=0.1.125->langchain-community)\n",
      "  Downloading requests_toolbelt-1.0.0-py2.py3-none-any.whl.metadata (14 kB)\n",
      "Collecting zstandard<0.24.0,>=0.23.0 (from langsmith<0.4,>=0.1.125->langchain-community)\n",
      "  Downloading zstandard-0.23.0-cp312-cp312-macosx_11_0_arm64.whl.metadata (3.0 kB)\n",
      "Collecting python-dotenv>=0.21.0 (from pydantic-settings<3.0.0,>=2.4.0->langchain-community)\n",
      "  Downloading python_dotenv-1.0.1-py3-none-any.whl.metadata (23 kB)\n",
      "Collecting charset-normalizer<4,>=2 (from requests<3,>=2->langchain-community)\n",
      "  Downloading charset_normalizer-3.4.1-cp312-cp312-macosx_10_13_universal2.whl.metadata (35 kB)\n",
      "Collecting idna<4,>=2.5 (from requests<3,>=2->langchain-community)\n",
      "  Downloading idna-3.10-py3-none-any.whl.metadata (10 kB)\n",
      "Collecting urllib3<3,>=1.21.1 (from requests<3,>=2->langchain-community)\n",
      "  Downloading urllib3-2.3.0-py3-none-any.whl.metadata (6.5 kB)\n",
      "Collecting certifi>=2017.4.17 (from requests<3,>=2->langchain-community)\n",
      "  Downloading certifi-2025.1.31-py3-none-any.whl.metadata (2.5 kB)\n",
      "Collecting anyio (from httpx<1,>=0.23.0->langsmith<0.4,>=0.1.125->langchain-community)\n",
      "  Downloading anyio-4.8.0-py3-none-any.whl.metadata (4.6 kB)\n",
      "Collecting httpcore==1.* (from httpx<1,>=0.23.0->langsmith<0.4,>=0.1.125->langchain-community)\n",
      "  Downloading httpcore-1.0.7-py3-none-any.whl.metadata (21 kB)\n",
      "Collecting h11<0.15,>=0.13 (from httpcore==1.*->httpx<1,>=0.23.0->langsmith<0.4,>=0.1.125->langchain-community)\n",
      "  Downloading h11-0.14.0-py3-none-any.whl.metadata (8.2 kB)\n",
      "Collecting jsonpointer>=1.9 (from jsonpatch<2.0,>=1.33->langchain-core<0.4.0,>=0.3.32->langchain-community)\n",
      "  Downloading jsonpointer-3.0.0-py2.py3-none-any.whl.metadata (2.3 kB)\n",
      "Collecting annotated-types>=0.6.0 (from pydantic<3.0.0,>=2.7.4->langchain<0.4.0,>=0.3.16->langchain-community)\n",
      "  Downloading annotated_types-0.7.0-py3-none-any.whl.metadata (15 kB)\n",
      "Collecting pydantic-core==2.27.2 (from pydantic<3.0.0,>=2.7.4->langchain<0.4.0,>=0.3.16->langchain-community)\n",
      "  Downloading pydantic_core-2.27.2-cp312-cp312-macosx_11_0_arm64.whl.metadata (6.6 kB)\n",
      "Collecting mypy-extensions>=0.3.0 (from typing-inspect<1,>=0.4.0->dataclasses-json<0.7,>=0.5.7->langchain-community)\n",
      "  Downloading mypy_extensions-1.0.0-py3-none-any.whl.metadata (1.1 kB)\n",
      "Collecting sniffio>=1.1 (from anyio->httpx<1,>=0.23.0->langsmith<0.4,>=0.1.125->langchain-community)\n",
      "  Downloading sniffio-1.3.1-py3-none-any.whl.metadata (3.9 kB)\n",
      "Downloading langchain_community-0.3.16-py3-none-any.whl (2.5 MB)\n",
      "\u001b[2K   \u001b[90m━━━━━━━━━━━━━━━━━━━━━━━━━━━━━━━━━━━━━━━━\u001b[0m \u001b[32m2.5/2.5 MB\u001b[0m \u001b[31m7.9 MB/s\u001b[0m eta \u001b[36m0:00:00\u001b[0ma \u001b[36m0:00:01\u001b[0m\n",
      "\u001b[?25hDownloading aiohttp-3.11.11-cp312-cp312-macosx_11_0_arm64.whl (455 kB)\n",
      "Downloading dataclasses_json-0.6.7-py3-none-any.whl (28 kB)\n",
      "Downloading httpx_sse-0.4.0-py3-none-any.whl (7.8 kB)\n",
      "Downloading langchain-0.3.17-py3-none-any.whl (1.0 MB)\n",
      "\u001b[2K   \u001b[90m━━━━━━━━━━━━━━━━━━━━━━━━━━━━━━━━━━━━━━━━\u001b[0m \u001b[32m1.0/1.0 MB\u001b[0m \u001b[31m7.4 MB/s\u001b[0m eta \u001b[36m0:00:00\u001b[0m\n",
      "\u001b[?25hDownloading langchain_core-0.3.33-py3-none-any.whl (412 kB)\n",
      "Downloading langsmith-0.3.4-py3-none-any.whl (333 kB)\n",
      "Downloading numpy-2.2.2-cp312-cp312-macosx_14_0_arm64.whl (5.1 MB)\n",
      "\u001b[2K   \u001b[90m━━━━━━━━━━━━━━━━━━━━━━━━━━━━━━━━━━━━━━━━\u001b[0m \u001b[32m5.1/5.1 MB\u001b[0m \u001b[31m7.9 MB/s\u001b[0m eta \u001b[36m0:00:00\u001b[0ma \u001b[36m0:00:01\u001b[0m\n",
      "\u001b[?25hDownloading pydantic_settings-2.7.1-py3-none-any.whl (29 kB)\n",
      "Downloading PyYAML-6.0.2-cp312-cp312-macosx_11_0_arm64.whl (173 kB)\n",
      "Downloading requests-2.32.3-py3-none-any.whl (64 kB)\n",
      "Downloading SQLAlchemy-2.0.37-cp312-cp312-macosx_11_0_arm64.whl (2.1 MB)\n",
      "\u001b[2K   \u001b[90m━━━━━━━━━━━━━━━━━━━━━━━━━━━━━━━━━━━━━━━━\u001b[0m \u001b[32m2.1/2.1 MB\u001b[0m \u001b[31m7.5 MB/s\u001b[0m eta \u001b[36m0:00:00\u001b[0ma \u001b[36m0:00:01\u001b[0m\n",
      "\u001b[?25hDownloading tenacity-9.0.0-py3-none-any.whl (28 kB)\n",
      "Downloading aiohappyeyeballs-2.4.4-py3-none-any.whl (14 kB)\n",
      "Downloading aiosignal-1.3.2-py2.py3-none-any.whl (7.6 kB)\n",
      "Downloading attrs-25.1.0-py3-none-any.whl (63 kB)\n",
      "Downloading certifi-2025.1.31-py3-none-any.whl (166 kB)\n",
      "Downloading charset_normalizer-3.4.1-cp312-cp312-macosx_10_13_universal2.whl (196 kB)\n",
      "Downloading frozenlist-1.5.0-cp312-cp312-macosx_11_0_arm64.whl (51 kB)\n",
      "Downloading httpx-0.28.1-py3-none-any.whl (73 kB)\n",
      "Downloading httpcore-1.0.7-py3-none-any.whl (78 kB)\n",
      "Downloading idna-3.10-py3-none-any.whl (70 kB)\n",
      "Downloading jsonpatch-1.33-py2.py3-none-any.whl (12 kB)\n",
      "Downloading langchain_text_splitters-0.3.5-py3-none-any.whl (31 kB)\n",
      "Downloading marshmallow-3.26.0-py3-none-any.whl (50 kB)\n",
      "Downloading multidict-6.1.0-cp312-cp312-macosx_11_0_arm64.whl (29 kB)\n",
      "Downloading orjson-3.10.15-cp312-cp312-macosx_10_15_x86_64.macosx_11_0_arm64.macosx_10_15_universal2.whl (249 kB)\n",
      "Downloading propcache-0.2.1-cp312-cp312-macosx_11_0_arm64.whl (45 kB)\n",
      "Downloading pydantic-2.10.6-py3-none-any.whl (431 kB)\n",
      "Downloading pydantic_core-2.27.2-cp312-cp312-macosx_11_0_arm64.whl (1.8 MB)\n",
      "\u001b[2K   \u001b[90m━━━━━━━━━━━━━━━━━━━━━━━━━━━━━━━━━━━━━━━━\u001b[0m \u001b[32m1.8/1.8 MB\u001b[0m \u001b[31m7.5 MB/s\u001b[0m eta \u001b[36m0:00:00\u001b[0ma \u001b[36m0:00:01\u001b[0m\n",
      "\u001b[?25hDownloading python_dotenv-1.0.1-py3-none-any.whl (19 kB)\n",
      "Downloading requests_toolbelt-1.0.0-py2.py3-none-any.whl (54 kB)\n",
      "Downloading typing_extensions-4.12.2-py3-none-any.whl (37 kB)\n",
      "Downloading typing_inspect-0.9.0-py3-none-any.whl (8.8 kB)\n",
      "Downloading urllib3-2.3.0-py3-none-any.whl (128 kB)\n",
      "Downloading yarl-1.18.3-cp312-cp312-macosx_11_0_arm64.whl (92 kB)\n",
      "Downloading zstandard-0.23.0-cp312-cp312-macosx_11_0_arm64.whl (633 kB)\n",
      "\u001b[2K   \u001b[90m━━━━━━━━━━━━━━━━━━━━━━━━━━━━━━━━━━━━━━━━\u001b[0m \u001b[32m633.5/633.5 kB\u001b[0m \u001b[31m7.2 MB/s\u001b[0m eta \u001b[36m0:00:00\u001b[0m\n",
      "\u001b[?25hDownloading annotated_types-0.7.0-py3-none-any.whl (13 kB)\n",
      "Downloading jsonpointer-3.0.0-py2.py3-none-any.whl (7.6 kB)\n",
      "Downloading mypy_extensions-1.0.0-py3-none-any.whl (4.7 kB)\n",
      "Downloading anyio-4.8.0-py3-none-any.whl (96 kB)\n",
      "Downloading h11-0.14.0-py3-none-any.whl (58 kB)\n",
      "Downloading sniffio-1.3.1-py3-none-any.whl (10 kB)\n",
      "Installing collected packages: zstandard, urllib3, typing-extensions, tenacity, sniffio, PyYAML, python-dotenv, propcache, orjson, numpy, mypy-extensions, multidict, marshmallow, jsonpointer, idna, httpx-sse, h11, frozenlist, charset-normalizer, certifi, attrs, annotated-types, aiohappyeyeballs, yarl, typing-inspect, SQLAlchemy, requests, pydantic-core, jsonpatch, httpcore, anyio, aiosignal, requests-toolbelt, pydantic, httpx, dataclasses-json, aiohttp, pydantic-settings, langsmith, langchain-core, langchain-text-splitters, langchain, langchain-community\n",
      "Successfully installed PyYAML-6.0.2 SQLAlchemy-2.0.37 aiohappyeyeballs-2.4.4 aiohttp-3.11.11 aiosignal-1.3.2 annotated-types-0.7.0 anyio-4.8.0 attrs-25.1.0 certifi-2025.1.31 charset-normalizer-3.4.1 dataclasses-json-0.6.7 frozenlist-1.5.0 h11-0.14.0 httpcore-1.0.7 httpx-0.28.1 httpx-sse-0.4.0 idna-3.10 jsonpatch-1.33 jsonpointer-3.0.0 langchain-0.3.17 langchain-community-0.3.16 langchain-core-0.3.33 langchain-text-splitters-0.3.5 langsmith-0.3.4 marshmallow-3.26.0 multidict-6.1.0 mypy-extensions-1.0.0 numpy-2.2.2 orjson-3.10.15 propcache-0.2.1 pydantic-2.10.6 pydantic-core-2.27.2 pydantic-settings-2.7.1 python-dotenv-1.0.1 requests-2.32.3 requests-toolbelt-1.0.0 sniffio-1.3.1 tenacity-9.0.0 typing-extensions-4.12.2 typing-inspect-0.9.0 urllib3-2.3.0 yarl-1.18.3 zstandard-0.23.0\n",
      "\n",
      "\u001b[1m[\u001b[0m\u001b[34;49mnotice\u001b[0m\u001b[1;39;49m]\u001b[0m\u001b[39;49m A new release of pip is available: \u001b[0m\u001b[31;49m24.3.1\u001b[0m\u001b[39;49m -> \u001b[0m\u001b[32;49m25.0\u001b[0m\n",
      "\u001b[1m[\u001b[0m\u001b[34;49mnotice\u001b[0m\u001b[1;39;49m]\u001b[0m\u001b[39;49m To update, run: \u001b[0m\u001b[32;49mpip3 install --upgrade pip\u001b[0m\n"
     ]
    }
   ],
   "source": [
    "!pip3 install langchain-community"
   ]
  },
  {
   "cell_type": "code",
   "execution_count": 10,
   "metadata": {},
   "outputs": [],
   "source": [
    "from langchain_community.llms import Ollama\n",
    "\n",
    "llm = Ollama(model = \"llama3.2\",base_url=\"http://localhost:11434\")"
   ]
  },
  {
   "cell_type": "code",
   "execution_count": 18,
   "metadata": {},
   "outputs": [
    {
     "name": "stdout",
     "output_type": "stream",
     "text": [
      "Here are ten influential and widely read psychology books that have shaped our understanding of human behavior, cognition, and emotions:\n",
      "\n",
      "1. **\"Man's Search for Meaning\" by Viktor Frankl** (1946) - A memoir about the psychologist's experiences in Nazi concentration camps, exploring the meaning of life and the search for purpose in the face of suffering.\n",
      "\n",
      "2. **\"The Selfish Gene\" by Richard Dawkins** (1976) - A foundational book on evolutionary psychology, introducing concepts like gene-centered evolution and memes.\n",
      "\n",
      "3. **\"Influence: The Psychology of Persuasion\" by Robert Cialdini** (1984) - A classic study on the six universal principles of influence that drive human behavior, including reciprocity, commitment, and social proof.\n",
      "\n",
      "4. **\"The Man Who Mistook His Wife for a Hat\" by Oliver Sacks** (1985) - A collection of case studies exploring unusual neurological conditions and their impact on cognition and behavior.\n",
      "\n",
      "5. **\"Thinking, Fast and Slow\" by Daniel Kahneman** (2011) - A Nobel Prize-winning economist's work on cognitive biases, intuition, and the two systems that govern our thinking: System 1 (fast) and System 2 (slow).\n",
      "\n",
      "6. **\"Daring Greatly: How the Courage to Be Vulnerable Transforms the Way We Live, Love, Parent, and Lead\" by Brené Brown** (2012) - A research-based exploration of vulnerability, shame, and wholehearted living.\n",
      "\n",
      "7. **\"The Power of Habit\" by Charles Duhigg** (2012) - A comprehensive study on habits and how to change them, providing insights into the neural mechanisms behind habit formation.\n",
      "\n",
      "8. **\"Sapiens: A Brief History of Humankind\" by Yuval Noah Harari** (2014) - A sweeping narrative that covers the entire history of humankind, from emergence to modern times, exploring our evolution, culture, and psychology.\n",
      "\n",
      "9. **\"The Power of Now\" by Eckhart Tolle** (1997) - A spiritual guidebook on finding inner peace, living in the present moment, and letting go of ego and negativity.\n",
      "\n",
      "10. **\"Flow: The Psychology of Optimal Experience\" by Mihaly Csikszentmihalyi** (1990) - A groundbreaking study on the psychology of optimal experience, exploring the concept of flow states and their relationship to happiness, creativity, and fulfillment.\n",
      "\n",
      "These books have significantly contributed to our understanding of human behavior, cognition, emotions, and social dynamics.\n"
     ]
    }
   ],
   "source": [
    "response = llm.invoke([\"tell me the top 10 psychology books\"])\n",
    "print(response)"
   ]
  },
  {
   "cell_type": "code",
   "execution_count": 19,
   "metadata": {},
   "outputs": [
    {
     "name": "stdout",
     "output_type": "stream",
     "text": [
      "The Kelly Criterion! A fundamental concept in probability theory and decision-making that's widely used in finance, betting, and other fields. So, let's dive into it!\n",
      "\n",
      "**What is the Kelly Criterion?**\n",
      "\n",
      "The Kelly Criterion is a formula for determining the optimal fraction of a bet to place on an event with a given probability of winning. It was first introduced by John L. Kelly Jr., an American mathematician, in his 1956 paper \"A New Interpretation of Information Theory.\" The criterion helps you make informed decisions about risk and reward when faced with uncertain outcomes.\n",
      "\n",
      "**Mathematical Background**\n",
      "\n",
      "To understand the Kelly Criterion, let's consider a simple bet: placing a fraction of your money on an event with a given probability of winning. Let's say you have $100 to bet, and you want to know how much to bet on an event that has a 60% chance of winning.\n",
      "\n",
      "The Kelly Criterion involves calculating two values:\n",
      "\n",
      "1. **Expected value (EV)**: This is the expected return on investment if you win the bet. For a fair game with probability p of winning, EV = p × W - q × L, where W is the winnings and q is the losses.\n",
      "2. **Variance (σ²)**: This measures the uncertainty or volatility of your bets.\n",
      "\n",
      "The Kelly Criterion formula calculates the optimal fraction of your money to bet, denoted as k:\n",
      "\n",
      "k = (p - q) / (p + q)\n",
      "\n",
      "In this example, with a 60% chance of winning and $100 to bet, you would calculate k as follows:\n",
      "\n",
      "k = (0.6 - 0.4) / (0.6 + 0.4)\n",
      "= 0.2 / 1\n",
      "= 20%\n",
      "\n",
      "This means you should bet 20% of your money on the event with a 60% chance of winning.\n",
      "\n",
      "**Key Insights**\n",
      "\n",
      "The Kelly Criterion offers several insights:\n",
      "\n",
      "* **Optimal fraction**: The calculated k value represents the optimal fraction of your money to bet.\n",
      "* **Risk and reward tradeoff**: By adjusting the fraction, you can balance risk and potential reward. A higher k value means a greater portion of your money is at risk, but also potentially more rewards if you win.\n",
      "* **No-arbitrage**: The Kelly Criterion ensures that your bets are not arbitrage opportunities (guaranteed profits without risk).\n",
      "\n",
      "**Limitations and Considerations**\n",
      "\n",
      "While the Kelly Criterion is an excellent tool for optimizing bets, keep in mind:\n",
      "\n",
      "* **Complexity**: Real-world scenarios often involve multiple events, bet types, and probabilities, making the calculation more complex.\n",
      "* **Assumptions**: The criterion assumes a fair game with no external influences, like taxes or fees.\n",
      "\n",
      "**Conclusion**\n",
      "\n",
      "The Kelly Criterion is a powerful tool for analyzing risk and reward in uncertain outcomes. By applying this formula to your betting decisions, you can make informed choices about how much to invest and manage your risk. Just remember to consider the complexities of real-world scenarios and assumptions when using this criterion.\n"
     ]
    }
   ],
   "source": [
    "print(llm.invoke([\"explain the concept of kelly criterion in gambling\"]))"
   ]
  },
  {
   "cell_type": "code",
   "execution_count": 36,
   "metadata": {},
   "outputs": [
    {
     "name": "stdout",
     "output_type": "stream",
     "text": [
      "('\"The Catcher in the Rye\" is a classic coming-of-age novel written by J.D. '\n",
      " 'Salinger, first published in 1951. The story revolves around the life of '\n",
      " 'Holden Caulfield, a disillusioned teenager who narrates his experiences '\n",
      " 'after being expelled from a prestigious boarding school.\\n'\n",
      " '\\n'\n",
      " '**Plot Overview:**\\n'\n",
      " '\\n'\n",
      " \"The novel begins with Holden's departure from Pencey Prep, a private school \"\n",
      " 'in Pennsylvania, due to poor grades. Feeling disconnected and disenchanted '\n",
      " 'with the phoniness he perceives in the world around him, Holden travels to '\n",
      " 'New York City, where he spends three days wandering through the city, '\n",
      " 'interacting with various people, and reflecting on his life.\\n'\n",
      " '\\n'\n",
      " 'Throughout his journey, Holden encounters several characters, including his '\n",
      " 'former classmate Stradlater, who represents everything Holden despises about '\n",
      " 'the superficiality of society. He also meets Sunny, a prostitute, and his '\n",
      " 'younger sister Phoebe, who is the only person he truly trusts.\\n'\n",
      " '\\n'\n",
      " '**Themes:**\\n'\n",
      " '\\n'\n",
      " 'The novel explores several themes that were groundbreaking at the time of '\n",
      " 'its publication:\\n'\n",
      " '\\n'\n",
      " \"1. Alienation and Disillusionment: Holden's struggles with feeling \"\n",
      " 'disconnected from others and the world around him resonate deeply with '\n",
      " 'readers.\\n'\n",
      " '2. The Illusion of Innocence: Holden grapples with the idea that he can '\n",
      " 'never truly be an innocent again, having been exposed to the harsh realities '\n",
      " 'of life.\\n'\n",
      " '3. Rebellion and Nonconformity: Holden rejects the notion of societal '\n",
      " 'expectations and strives to forge his own path in life.\\n'\n",
      " '4. Loneliness and Isolation: Despite his relationships with others, Holden '\n",
      " 'feels deeply isolated and disconnected from those around him.\\n'\n",
      " '\\n'\n",
      " '**Symbolism and Character Development:**\\n'\n",
      " '\\n'\n",
      " 'Holden Caulfield is often seen as a symbol for adolescent angst, rebellion, '\n",
      " \"and the struggle to find one's place in the world. The character of Phoebe, \"\n",
      " \"who represents Holden's innocence and authenticity, serves as a source of \"\n",
      " 'comfort and guidance for the protagonist.\\n'\n",
      " '\\n'\n",
      " \"The novel's famous final scene, where Holden watches Phoebe on a carousel, \"\n",
      " 'has become an iconic representation of the human desire for connection and '\n",
      " 'belonging.\\n'\n",
      " '\\n'\n",
      " '**Impact:**\\n'\n",
      " '\\n'\n",
      " '\"The Catcher in the Rye\" has had a profound impact on literature and popular '\n",
      " 'culture. The book has been translated into over 30 languages and has sold '\n",
      " 'millions of copies worldwide. It remains one of the most widely read and '\n",
      " 'studied novels of the 20th century, continuing to resonate with readers of '\n",
      " 'all ages.\\n'\n",
      " '\\n'\n",
      " 'In conclusion, \"The Catcher in the Rye\" is a timeless classic that explores '\n",
      " 'themes of alienation, rebellion, and the human desire for connection. Its '\n",
      " 'relatable protagonist and poignant storytelling have cemented its place as a '\n",
      " 'beloved novel that continues to inspire and captivate readers today.')\n"
     ]
    }
   ],
   "source": [
    "from pprint import pprint \n",
    "pprint(llm.invoke([\"give me an overview of the book 'the catcher in the rye'\"]))"
   ]
  },
  {
   "cell_type": "code",
   "execution_count": 48,
   "metadata": {},
   "outputs": [
    {
     "name": "stdout",
     "output_type": "stream",
     "text": [
      "Error: could not connect to ollama app, is it running?\n"
     ]
    }
   ],
   "source": [
    "! Ollama list"
   ]
  },
  {
   "cell_type": "code",
   "execution_count": 47,
   "metadata": {},
   "outputs": [
    {
     "name": "stdout",
     "output_type": "stream",
     "text": [
      "Error: could not connect to ollama app, is it running?\n"
     ]
    }
   ],
   "source": [
    "! Ollama ps"
   ]
  },
  {
   "cell_type": "code",
   "execution_count": 46,
   "metadata": {},
   "outputs": [
    {
     "name": "stdout",
     "output_type": "stream",
     "text": [
      "\u001b[?25l\u001b[?25l\u001b[?25h\u001b[2K\u001b[1G\u001b[?25hError: couldn't find model \"a80c4f17acd5\" to stop\n"
     ]
    }
   ],
   "source": [
    "! Ollama stop \"a80c4f17acd5\""
   ]
  },
  {
   "cell_type": "code",
   "execution_count": 44,
   "metadata": {},
   "outputs": [],
   "source": [
    "llm.stop"
   ]
  },
  {
   "cell_type": "code",
   "execution_count": null,
   "metadata": {},
   "outputs": [],
   "source": []
  }
 ],
 "metadata": {
  "kernelspec": {
   "display_name": "Python 3",
   "language": "python",
   "name": "python3"
  },
  "language_info": {
   "codemirror_mode": {
    "name": "ipython",
    "version": 3
   },
   "file_extension": ".py",
   "mimetype": "text/x-python",
   "name": "python",
   "nbconvert_exporter": "python",
   "pygments_lexer": "ipython3",
   "version": "3.12.8"
  }
 },
 "nbformat": 4,
 "nbformat_minor": 2
}
